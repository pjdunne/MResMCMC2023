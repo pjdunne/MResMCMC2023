{
 "cells": [
  {
   "cell_type": "markdown",
   "metadata": {},
   "source": [
    "# Hamiltonian Monte Carlo (distinguished from Dian Zhang's Model)"
   ]
  },
  {
   "cell_type": "markdown",
   "metadata": {},
   "source": [
    "#### Theory\n",
    "With reference to [Stan Reference Manual](https://mc-stan.org/docs/reference-manual/hamiltonian-monte-carlo.html).\n",
    "\n",
    "\n",
    "\n",
    "- The goal is to draw samples from a target distribution $p(\\theta)$ for parameters $\\theta$. (Dian uses $\\rho(\\theta)$ for the probability distribution)\n",
    "\n",
    "- HMC introduces auxilary momentum variables $\\rho$, this auxilary density $\\rho$ is a multivariate normal and is independent of $\\theta$.\n",
    "\n",
    "    - $\\rho \\sim MultiNormal(\\underline{0}, M)$, where $M$ is the [Euclidean metric](https://mathworld.wolfram.com/EuclideanMetric.html).\n",
    "\n",
    "        - eg. a 2D Gaussian $p(\\textbf{x}) = \\mathcal{N}(\\textbf{x};\\begin{bmatrix} 0 \\\\ 0 \\end{bmatrix},\\begin{bmatrix} 1 & 0.98 \\\\ 0.98 & 1 \\end{bmatrix})$\n",
    "\n",
    "- The Hamiltonian $H(\\rho,\\theta)= kinetic \\ energy + potential \\ energy$\n",
    "\n",
    "    - $kinetic \\ energy = T (\\rho \\mid \\theta) = - \\log p(\\rho \\mid \\theta)$\n",
    "\n",
    "    - $potential \\ energy = U(\\theta) = -\\log p(\\theta)$\n",
    "\n",
    "    - $\\frac{d\\theta}{dt} = -\\frac{\\partial T}{\\partial \\rho}$\n",
    "    \n",
    "    - $\\frac{d\\rho}{dt} = -\\frac{\\partial U}{\\partial \\theta}$\n",
    "\n",
    "**Leapfrog integrator**\n",
    "\n",
    "For small time inteval $\\epsilon$, it updates the $\\rho$ and $\\theta$ as follows:\n",
    "- $$\\rho \\leftarrow \\rho - \\frac{\\epsilon}{2} \\frac{\\partial U}{\\partial \\theta}$$\n",
    "- $$\\theta \\leftarrow \\theta + \\epsilon M^{-1} \\rho$$\n",
    "- $$\\rho \\leftarrow \\rho - \\frac{\\epsilon}{2} \\frac{\\partial U}{\\partial \\theta}$$\n",
    "\n",
    "After the orbit is integrated for a while, a new proposed sample is generated, and accepted or rejected,\n",
    "then a new random momentum is generated and the procedure repeated."
   ]
  },
  {
   "cell_type": "markdown",
   "metadata": {},
   "source": [
    "## Parameters\n",
    "\n",
    "With reference to [Stan Reference Manual](https://mc-stan.org/docs/reference-manual/hmc-algorithm-parameters.html)\n",
    "\n",
    "The Hamiltonian Monte Carlo algorithm has three parameters which must be set,\n",
    "\n",
    "- discretization time $\\epsilon$\n",
    "- metric $M$\n",
    "- number of leapfrog steps taken $L$"
   ]
  },
  {
   "cell_type": "code",
   "execution_count": null,
   "metadata": {},
   "outputs": [],
   "source": [
    "class HMCsampler:\n",
    "    def leapfrog_step"
   ]
  },
  {
   "cell_type": "code",
   "execution_count": 1,
   "metadata": {},
   "outputs": [],
   "source": [
    "import numpy as np\n",
    "\n",
    "# Define a function to calculate the Hamiltonian\n",
    "def hamiltonian(x, p):\n",
    "    return 0.5 * np.dot(p, p) + np.sum(np.square(x))\n",
    "\n",
    "# Define a function to calculate the partial derivatives\n",
    "def hamiltonian_derivatives(x, p):\n",
    "    return np.array([2*x, p])\n",
    "\n",
    "# Define a function to calculate the Hamiltonian Monte Carlo updates\n",
    "def hmc_updates(x, p, epsilon, L):\n",
    "    current_hamiltonian = hamiltonian(x, p)\n",
    "    # Initialize the position and momentum\n",
    "    x_new = x\n",
    "    p_new = p\n",
    "    # Perform the leapfrog updates\n",
    "    for i in range(L):\n",
    "        p_new = p_new - epsilon * hamiltonian_derivatives(x_new, p_new)[0] / 2\n",
    "        x_new = x_new + epsilon * hamiltonian_derivatives(x_new, p_new)[1]\n",
    "        p_new = p_new - epsilon * hamiltonian_derivatives(x_new, p_new)[0] / 2\n",
    "    # Calculate the new Hamilitonian\n",
    "    new_hamiltonian = hamiltonian(x_new, p_new)\n",
    "    # Accept or reject the new position based on the Metropolis-Hastings criterion\n",
    "    if np.random.uniform(0, 1) < np.exp(current_hamiltonian - new_hamiltonian):\n",
    "        return x_new\n",
    "    else:\n",
    "        return x\n",
    "\n",
    "# Define a function to run the Hamiltonian Monte Carlo\n",
    "def hmc(x_init, epsilon, L, n_steps):\n",
    "    x = x_init\n",
    "    p = np.random.normal(size=x_init.shape)\n",
    "    for i in range(n_steps):\n",
    "        x = hmc_updates(x, p, epsilon, L)\n",
    "    return x"
   ]
  },
  {
   "cell_type": "code",
   "execution_count": null,
   "metadata": {},
   "outputs": [],
   "source": []
  }
 ],
 "metadata": {
  "kernelspec": {
   "display_name": "Python 3.10.6 64-bit",
   "language": "python",
   "name": "python3"
  },
  "language_info": {
   "codemirror_mode": {
    "name": "ipython",
    "version": 3
   },
   "file_extension": ".py",
   "mimetype": "text/x-python",
   "name": "python",
   "nbconvert_exporter": "python",
   "pygments_lexer": "ipython3",
   "version": "3.10.6"
  },
  "orig_nbformat": 4,
  "vscode": {
   "interpreter": {
    "hash": "26de051ba29f2982a8de78e945f0abaf191376122a1563185a90213a26c5da77"
   }
  }
 },
 "nbformat": 4,
 "nbformat_minor": 2
}
