{
 "cells": [
  {
   "cell_type": "code",
   "execution_count": null,
   "metadata": {},
   "outputs": [],
   "source": [
    "import numpy as np\n",
    "import matplotlib.pyplot as plt\n",
    "from mpl_toolkits.mplot3d import Axes3D\n",
    "from typing import Callable, List\n",
    "\n",
    "import Visualization_tools as sts\n",
    "import Hamiltonian as ham\n",
    "import MHMC as mh\n",
    "import ProposalDistributions as PDs\n",
    "#from Eggholder_Function_2 import EggholderLikelihood\n",
    "\n",
    "import time\n",
    "\n",
    "import matplotlib.colors as colors\n",
    "from scipy.stats import poisson\n",
    "from typing import Callable"
   ]
  },
  {
   "cell_type": "code",
   "execution_count": null,
   "metadata": {},
   "outputs": [],
   "source": [
    "class EggholderFunction:\n",
    "    def __init__(self, a, b):\n",
    "        self.a = a\n",
    "        self.b = b\n",
    "        self.bounds = [(-512, 512), (-512, 512)]\n",
    "\n",
    "    def eggholder(self, x, y):\n",
    "        fxy = -(y + self.a) * np.sin(np.sqrt(abs(x / self.b + (y + self.a)))) - x * np.sin(np.sqrt(abs(x - (y + self.a)))) + 1000\n",
    "        return fxy\n",
    "\n",
    "    def evaluate(self, params):\n",
    "        x, y = params\n",
    "        fxy = self.eggholder(x, y)\n",
    "        return fxy"
   ]
  },
  {
   "cell_type": "code",
   "execution_count": null,
   "metadata": {},
   "outputs": [],
   "source": [
    "# Instantiate the EggholderLikelihood class\n",
    "a=47\n",
    "b=2\n",
    "EHF = EggholderFunction(a,b)\n"
   ]
  },
  {
   "cell_type": "code",
   "execution_count": null,
   "metadata": {},
   "outputs": [],
   "source": [
    "# Create an array of x and y values\n",
    "N = 10000\n",
    "x = np.linspace(-512, 512, N)\n",
    "y = np.linspace(-512, 512, N)\n",
    "\n",
    "# Create a grid of x and y values\n",
    "x, y = np.meshgrid(x, y)\n",
    "\n",
    "# Calculate the z values\n",
    "z = EHF.eggholder(x, y)\n",
    "\n",
    "# Create the plot\n",
    "fig = plt.figure(figsize=(20, 15))\n",
    "ax = fig.add_subplot(111, projection='3d')\n",
    "ax.plot_surface(x, y, z, cmap='viridis', edgecolor='k')\n",
    "ax.set_title('3D Surface Plot of Eggholder Function')\n",
    "ax.set_xlabel('x')\n",
    "ax.set_ylabel('y')\n",
    "ax.set_zlabel('f(x, y)')\n",
    "plt.show()"
   ]
  },
  {
   "cell_type": "code",
   "execution_count": null,
   "metadata": {},
   "outputs": [],
   "source": [
    "# Flatten z and normalize it\n",
    "z_flat = z.flatten()\n",
    "z_normalized = z_flat / np.sum(z_flat)\n",
    "\n",
    "# Define indices\n",
    "indices = np.arange(z_flat.size)\n",
    "\n",
    "# Generate data indices according to the distribution of z\n",
    "data_indices = np.random.choice(indices, size=N, p=z_normalized)\n",
    "\n",
    "# Convert these indices back to 2D coordinates\n",
    "data_coordinates = np.unravel_index(data_indices, z.shape)\n",
    "\n",
    "# Extract the corresponding (x, y) data points\n",
    "data = np.vstack((x[data_coordinates], y[data_coordinates])).T\n"
   ]
  },
  {
   "cell_type": "code",
   "execution_count": null,
   "metadata": {},
   "outputs": [],
   "source": [
    "def generate_noisy_data(data, bins=30, noise_scale=None):\n",
    "    '''\n",
    "    Generate data with Asimov fluctuations\n",
    "    \n",
    "    Arguments\n",
    "    data [np.ndarray]: initial dataset\n",
    "    bins: number of bins for the Asimov fluctuation\n",
    "    noise_scale: standard deviation of the Asimov noise\n",
    "    \n",
    "    Returns \n",
    "    noisy_data [np.ndarray or None]: data with the Asimov noise added\n",
    "    \n",
    "    '''\n",
    "    n_dimensions = 2\n",
    "    # First, create a numpy histogram\n",
    "    data_hist, bin_edges = np.histogramdd(data, bins=bins)\n",
    "    bin_centers = []\n",
    "    for i in range(n_dimensions):\n",
    "        bin_centers.append((bin_edges[i][:-1] + bin_edges[i][1:]) / 2.0)\n",
    "\n",
    "    # Calculate the bin areas (assuming uniform bins)\n",
    "    bin_areas = np.ones_like(data_hist)\n",
    "    for i in range(n_dimensions):\n",
    "        bin_areas *= (bin_edges[i][1:] - bin_edges[i][:-1]).reshape([-1 if j == i else 1 for j in range(n_dimensions)])\n",
    "\n",
    "    # Calculate expected number of events per bin and add Asimov fluctuations\n",
    "    expected_values = data_hist * bin_areas\n",
    "    asimov_fluctuations = np.random.normal(expected_values, np.sqrt(expected_values))\n",
    "    noisy_data_hist = asimov_fluctuations\n",
    "\n",
    "    # Create the noisy dataset with the same size as the original data\n",
    "    noisy_data = np.empty_like(data)\n",
    "    for i in range(n_dimensions):\n",
    "        noisy_data[:, i] = np.random.choice(bin_centers[i], size=data.shape[0], p=sum(noisy_data_hist / noisy_data_hist.sum()))\n",
    "\n",
    "    if noise_scale is not None:\n",
    "        noisy_data = noisy_data + np.random.normal(scale=noise_scale, size=noisy_data.shape)\n",
    "\n",
    "    return noisy_data\n"
   ]
  },
  {
   "cell_type": "code",
   "execution_count": null,
   "metadata": {},
   "outputs": [],
   "source": []
  },
  {
   "cell_type": "code",
   "execution_count": null,
   "metadata": {},
   "outputs": [],
   "source": [
    "# Generate the noisy data\n",
    "noisy_data = generate_noisy_data(data=data, bins=30)\n",
    "\n",
    "# Extract the x, y, z coordinates from the noisy data\n",
    "x_noisy = noisy_data[:, 0]\n",
    "y_noisy = noisy_data[:, 1]\n",
    "z_noisy = EHF.evaluate(noisy_data.T)  # Evaluate the Eggholder function for the noisy data\n",
    "\n",
    "# Create the 3D scatter plot\n",
    "fig = plt.figure(figsize=(15,12))\n",
    "ax = fig.add_subplot(111, projection='3d')\n",
    "ax.scatter(x_noisy, y_noisy, z_noisy, c=z_noisy, cmap='viridis')\n",
    "ax.set_xlabel('X')\n",
    "ax.set_ylabel('Y')\n",
    "ax.set_zlabel('Z')\n",
    "ax.set_title('3D Scatter Plot of Noisy Data')\n",
    "plt.show()\n"
   ]
  },
  {
   "cell_type": "code",
   "execution_count": null,
   "metadata": {},
   "outputs": [],
   "source": [
    "def plot_heatmap(noisy_data):\n",
    "    a, b = EHF.bounds\n",
    "    x = np.linspace(a[0], a[1], 400)\n",
    "    y = np.linspace(b[0], b[1], 400)\n",
    "    X, Y = np.meshgrid(x, y)\n",
    "    Z = EHF.eggholder(X, Y)\n",
    "\n",
    "    plt.figure(figsize=(15, 12))\n",
    "    plt.imshow(Z, cmap='viridis', extent=[a[0], a[1], b[0], b[1]], origin='lower')\n",
    "\n",
    "    plt.colorbar(label='f(x, y)')\n",
    "    plt.xlabel('x')\n",
    "    plt.ylabel('y')\n",
    "    plt.title('2D Heatmap of Eggholder Function with Noisy Data')\n",
    "    plt.legend()\n",
    "    plt.show()\n"
   ]
  },
  {
   "cell_type": "code",
   "execution_count": null,
   "metadata": {},
   "outputs": [],
   "source": [
    "plot_heatmap(noisy_data)\n"
   ]
  },
  {
   "cell_type": "code",
   "execution_count": null,
   "metadata": {},
   "outputs": [],
   "source": [
    "\n",
    "# Extract the x and y dimensions from the noisy data\n",
    "# x_data = data[:,0]\n",
    "# y_data = data[:,1]\n",
    "\n",
    "# Create a figure with two subplots\n",
    "fig, axs = plt.subplots(2, 1, figsize=(10,8))\n",
    "\n",
    "# Plot the histogram for the x dimension\n",
    "\n",
    "for i in range(2):\n",
    "    data_counts, data_edges = np.histogram(data[:,i], bins=30)\n",
    "    data_bin_centers = (data_edges[:-1] + data_edges[1:]) / 2.0\n",
    "    noisy_counts, noisy_edges = np.histogram(noisy_data[:,i], bins=30)\n",
    "    noisy_bin_centers = (noisy_edges[:-1] + noisy_edges[1:]) / 2.0\n",
    "    data_bars = axs[i].bar(data_bin_centers, data_counts, alpha=0.5, label='Data', width=(data_bin_centers[1] - data_bin_centers[0]))\n",
    "    noisy_points = axs[i].scatter(data_bin_centers, noisy_counts, color='red', label='Noisy data')\n",
    "    handles = [data_bars, noisy_points]\n",
    "    if i == 0:\n",
    "        axs[i].set_title('Histogram from x axis')\n",
    "        axs[i].set_xlabel('x')\n",
    "        axs[i].set_ylabel('Count')\n",
    "        axs[i].legend(handles=handles,loc=3)\n",
    "    if i == 1:\n",
    "        axs[i].set_title('Histogram from y axis')\n",
    "        axs[i].set_xlabel('y')\n",
    "        axs[i].set_ylabel('Count')\n",
    "        axs[i].legend(handles=handles,loc=3)\n",
    "\n",
    "# Display the figure\n",
    "plt.tight_layout()\n",
    "plt.show()\n"
   ]
  },
  {
   "cell_type": "code",
   "execution_count": null,
   "metadata": {},
   "outputs": [],
   "source": [
    "\n",
    "def log_likelihood(x, y, mcx, mcy, a, b):\n",
    "    lambda_ = EHF.eggholder(x, y)  \n",
    "    data = EHF.eggholder(mcx, mcy)  \n",
    "    log_likelihood_value = -(lambda_ - data + data * np.log(data/lambda_))\n",
    "    return log_likelihood_value\n",
    "\n",
    "def log_likelihoods(params):\n",
    "    a, b = params\n",
    "    return np.sum(log_likelihood(x=data[:,0], \n",
    "                                 y=data[:,1], \n",
    "                                 mcx=noisy_data[:,0], \n",
    "                                 mcy=noisy_data[:,1], \n",
    "                                 a=a, \n",
    "                                 b=b))\n"
   ]
  },
  {
   "cell_type": "code",
   "execution_count": null,
   "metadata": {},
   "outputs": [],
   "source": []
  },
  {
   "cell_type": "code",
   "execution_count": null,
   "metadata": {},
   "outputs": [],
   "source": [
    "def dfdx(mu):\n",
    "    '''\n",
    "    Forward differencing scheme\n",
    "    '''\n",
    "    epsilon = 0.01\n",
    "    n_dims = 1\n",
    "    n_comp = 1\n",
    "    mu = np.array(mu)\n",
    "    delta_theta = []\n",
    "    res_mu_plus = []\n",
    "    for i in range(mu.shape[0]):\n",
    "        E_plus = np.zeros(n_dims*n_comp)\n",
    "        E_plus += [(epsilon if j == i else 0) for j in range(n_dims*n_comp)]\n",
    "        res_mu_plus.append(E_plus)\n",
    "\n",
    "    for i in range(n_dims*n_comp):\n",
    "        delta_thetai = (log_likelihoods(mu+res_mu_plus[i]) - log_likelihoods(mu))/(epsilon)\n",
    "        delta_theta.append(delta_thetai)\n",
    "        \n",
    "    return delta_theta"
   ]
  },
  {
   "cell_type": "code",
   "execution_count": null,
   "metadata": {},
   "outputs": [],
   "source": [
    "def U(theta: List[np.longdouble]) -> np.longdouble:\n",
    "    '''\n",
    "    the potential energy function: \n",
    "    U(theta) = -log(probability distribution of theta)\n",
    "    '''\n",
    "    return - log_likelihoods(theta)\n",
    "\n",
    "def grad_U(theta: List[np.longdouble]) -> np.longdouble:\n",
    "    '''\n",
    "    the derivative of the eggholder function\n",
    "    dU/dmu\n",
    "    '''\n",
    "    DRho = dfdx(theta)\n",
    "    Rho = - log_likelihoods(theta)\n",
    "    return np.array([dRho/Rho for dRho in DRho])"
   ]
  },
  {
   "cell_type": "code",
   "execution_count": null,
   "metadata": {},
   "outputs": [],
   "source": []
  },
  {
   "cell_type": "code",
   "execution_count": null,
   "metadata": {},
   "outputs": [],
   "source": []
  },
  {
   "cell_type": "code",
   "execution_count": null,
   "metadata": {},
   "outputs": [],
   "source": [
    "theta_accept, theta_reject = ham.HMC(epoch=1000, \n",
    "                                 L=20, \n",
    "                                 epsilon=0.15, \n",
    "                                 U=U, \n",
    "                                 grad_U=grad_U, \n",
    "                                 current_theta=np.array([0,0]))"
   ]
  },
  {
   "cell_type": "code",
   "execution_count": null,
   "metadata": {},
   "outputs": [],
   "source": [
    "sts.auto_corr_plot(theta_accept, \n",
    "                   plot_nth_theta=[0, 1], \n",
    "                   theta_index=['$a$', '$b$'], \n",
    "                   max_time_lag=len(theta_accept), \n",
    "                   figsize=[8, 6])\n"
   ]
  },
  {
   "cell_type": "code",
   "execution_count": null,
   "metadata": {},
   "outputs": [],
   "source": [
    "a = np.linspace(0, 60, 100)\n",
    "b = np.linspace(0, 60, 100)\n",
    "a, b = np.meshgrid(a, b)\n",
    "\n",
    "Z = np.zeros([100, 100])\n",
    "for i in range(100):\n",
    "    for j in range(100):\n",
    "        Z[i][j] = log_likelihoods([a[i][j], b[i][j]])\n",
    "\n",
    "Z1 = []\n",
    "for i in range(len(theta_accept)):\n",
    "    Z1.append(log_likelihoods([theta_accept[i][0], theta_accept[i][1]]))\n"
   ]
  },
  {
   "cell_type": "code",
   "execution_count": null,
   "metadata": {},
   "outputs": [],
   "source": [
    "plt.figure(figsize=(12, 10))\n",
    "\n",
    "\n",
    "# Scatter plot of the sampled points\n",
    "plt.scatter(np.array(theta_accept)[:, 0], np.array(theta_accept)[:, 1], marker='x', color='red', label='Accepted Points')\n",
    "\n",
    "# Plot the trace of the sampled points\n",
    "plt.plot(np.array(theta_accept)[:, 0], np.array(theta_accept)[:, 1], '--', color='orange', label='Trace')\n",
    "\n",
    "# Add the true value point\n",
    "plt.scatter(47, 2, color='black', label='True Value', marker='o')\n",
    "\n",
    "# Mark the start and end points\n",
    "plt.scatter(np.array(theta_accept)[0, 0], np.array(theta_accept)[0, 1], color='green', label='Start Point', marker='s')\n",
    "plt.scatter(np.array(theta_accept)[-1, 0], np.array(theta_accept)[-1, 1], color='blue', label='End Point', marker='^')\n",
    "\n",
    "plt.xlabel('$a$')\n",
    "plt.ylabel('$b$')\n",
    "plt.legend()\n",
    "plt.title('Trace of sampled points')\n",
    "plt.show()\n"
   ]
  },
  {
   "cell_type": "code",
   "execution_count": null,
   "metadata": {},
   "outputs": [],
   "source": []
  },
  {
   "cell_type": "code",
   "execution_count": null,
   "metadata": {},
   "outputs": [],
   "source": []
  },
  {
   "cell_type": "code",
   "execution_count": null,
   "metadata": {},
   "outputs": [],
   "source": []
  },
  {
   "cell_type": "code",
   "execution_count": null,
   "metadata": {},
   "outputs": [],
   "source": []
  }
 ],
 "metadata": {
  "kernelspec": {
   "display_name": "Python 3",
   "language": "python",
   "name": "python3"
  },
  "language_info": {
   "codemirror_mode": {
    "name": "ipython",
    "version": 3
   },
   "file_extension": ".py",
   "mimetype": "text/x-python",
   "name": "python",
   "nbconvert_exporter": "python",
   "pygments_lexer": "ipython3",
   "version": "3.7.4"
  }
 },
 "nbformat": 4,
 "nbformat_minor": 2
}
