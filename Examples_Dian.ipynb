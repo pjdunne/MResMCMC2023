{
 "cells": [
  {
   "attachments": {},
   "cell_type": "markdown",
   "metadata": {},
   "source": [
    "## Preparing the target distribution of the MCMC Algorithms"
   ]
  },
  {
   "attachments": {},
   "cell_type": "markdown",
   "metadata": {},
   "source": [
    "Defining the function to generate the true parameter of the Mixture Gaussian Model and generating the Dataset with the setted parameters.  "
   ]
  },
  {
   "cell_type": "code",
   "execution_count": 12,
   "metadata": {},
   "outputs": [],
   "source": [
    "import numpy as np\n",
    "\n",
    "class Data_params_gen_GMM:\n",
    "    def __init__(self, n_components, n_dimensions, weights=[], mus=[], Sigmas=[], random_seed=123) -> None:\n",
    "        \"\"\"\n",
    "        \n",
    "        initialize the Gaussian Mixture Model datapoint generator\n",
    "\n",
    "        Arguments\n",
    "        ---------\n",
    "        n_components (int): the number of components of the Gaussian Mixture Model\n",
    "        n_dimensiona (int): the number of the dimension of the output datapoints\n",
    "        weightes (np.array); the weight of each gaussian model\n",
    "        mus (np.array): the mean of each gaussian model\n",
    "        Sigmas (np.array): the variance covariance matrix of each gaussian model\n",
    "        random_seed (int): the random seed\n",
    "\n",
    "        Returns\n",
    "        -------\n",
    "        None\n",
    "        \n",
    "        \"\"\"\n",
    "\n",
    "        self.n_components = n_components\n",
    "        self.n_dimensions = n_dimensions\n",
    "        if list(weights):\n",
    "            self.weights = weights\n",
    "        else:\n",
    "            self.weights = np.asarray(np.random.choice(range(1, 100+1), size=n_components), dtype=np.float64)\n",
    "            self.weights /= np.sum(self.weights)\n",
    "        if list(mus):\n",
    "            self.mus = mus\n",
    "        else:\n",
    "            self.mus = np.random.choice(range(10), size=(self.n_components, self.n_dimensions))\n",
    "\n",
    "        if list(Sigmas):\n",
    "            self.Sigmas = Sigmas\n",
    "        else:\n",
    "            self.Sigmas = np.asarray([np.eye(N=n_dimensions, M=n_dimensions) for _ in range(n_components)])\n",
    "\n",
    "        np.random.seed(random_seed)\n",
    "\n",
    "    def generate(self, datasize, noise_scale=0.1, add_noise=True):\n",
    "\n",
    "        \"\"\"\n",
    "\n",
    "        Generate datapints with setted parameter values \n",
    "\n",
    "        Arguments\n",
    "        ---------\n",
    "        datasize (int): the number of the datapoints of the output dataset\n",
    "        noise_scale (float): the Gaussian noise added to the output datapoints\n",
    "        add_noise (bool): deciding whether to add gaussian noise to the output dataset\n",
    "\n",
    "        \"\"\"\n",
    "\n",
    "        self.Dataset = np.zeros((datasize, self.n_dimensions))\n",
    "        Idxes = np.random.choice(self.n_components, size=datasize, p=self.weights)\n",
    "\n",
    "        # Generating pure dataset\n",
    "        for i in range(self.n_components):\n",
    "            Idx = (Idxes==i)\n",
    "            self.Dataset[Idx, :] = np.random.multivariate_normal(mean=self.mus[i], cov=self.Sigmas[i], size=np.sum(Idx))\n",
    "\n",
    "        if add_noise:\n",
    "            # Adding noise to the dataset\n",
    "            noise = np.random.normal(loc=0, scale=noise_scale, size=self.Dataset.shape)\n",
    "            self.noisy_Dataset = self.Dataset + noise\n",
    "            return self.Dataset, self.noisy_Dataset\n",
    "        else:\n",
    "            return self.Dataset\n"
   ]
  },
  {
   "cell_type": "code",
   "execution_count": 16,
   "metadata": {},
   "outputs": [
    {
     "data": {
      "image/png": "[encoded data removed]",
      "text/plain": [
       "<Figure size 640x480 with 1 Axes>"
      ]
     },
     "metadata": {},
     "output_type": "display_data"
    }
   ],
   "source": [
    "import matplotlib.pyplot as plt\n",
    "\n",
    "GMM_data_2D_4com = Data_params_gen_GMM(n_components=4, n_dimensions=2)\n",
    "_,_ = GMM_data_2D_4com.generate(datasize=100)\n",
    "\n",
    "with plt.style.context(\"ggplot\"):\n",
    "    plt.scatter(GMM_data_2D_4com.Dataset[:, 0], GMM_data_2D_4com.Dataset[:, 1])\n",
    "    plt.xlabel(\"$x_1$\")\n",
    "    plt.ylabel(\"$x_2$\")\n",
    "    plt.show()\n"
   ]
  },
  {
   "cell_type": "code",
   "execution_count": null,
   "metadata": {},
   "outputs": [],
   "source": []
  }
 ],
 "metadata": {
  "kernelspec": {
   "display_name": "base",
   "language": "python",
   "name": "python3"
  },
  "language_info": {
   "codemirror_mode": {
    "name": "ipython",
    "version": 3
   },
   "file_extension": ".py",
   "mimetype": "text/x-python",
   "name": "python",
   "nbconvert_exporter": "python",
   "pygments_lexer": "ipython3",
   "version": "3.10.8"
  },
  "orig_nbformat": 4,
  "vscode": {
   "interpreter": {
    "hash": "40d3a090f54c6569ab1632332b64b2c03c39dcf918b08424e98f38b5ae0af88f"
   }
  }
 },
 "nbformat": 4,
 "nbformat_minor": 2
}
